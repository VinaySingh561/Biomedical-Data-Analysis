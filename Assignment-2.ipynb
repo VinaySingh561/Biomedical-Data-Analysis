{
 "cells": [
  {
   "attachments": {},
   "cell_type": "markdown",
   "metadata": {},
   "source": [
    "### Coefficient of Variation"
   ]
  },
  {
   "cell_type": "code",
   "execution_count": 180,
   "metadata": {},
   "outputs": [],
   "source": [
    "from scipy.stats import variation\n",
    "import numpy as np\n",
    "import pandas as pd\n",
    "import matplotlib.pyplot as plt\n",
    "import seaborn as sns\n",
    "from scipy import stats"
   ]
  },
  {
   "attachments": {},
   "cell_type": "markdown",
   "metadata": {},
   "source": [
    "Suppose we have a weighing machine to weigh cow, and data for the insturment is as follows:"
   ]
  },
  {
   "cell_type": "code",
   "execution_count": 3,
   "metadata": {},
   "outputs": [],
   "source": [
    "weight  = np.array([280,295, 245, 310, 285, 270, 295, 300])"
   ]
  },
  {
   "cell_type": "code",
   "execution_count": 6,
   "metadata": {},
   "outputs": [],
   "source": [
    "var = variation(weight)*100"
   ]
  },
  {
   "cell_type": "code",
   "execution_count": 9,
   "metadata": {},
   "outputs": [
    {
     "name": "stdout",
     "output_type": "stream",
     "text": [
      "Mean of the data:  285.0\n",
      "Std of the data:  19.04\n",
      "Coffiecient of Variation for the instrument is : 6.68\n"
     ]
    }
   ],
   "source": [
    "print(\"Mean of the data: \", round(np.mean(weight),2))\n",
    "print(\"Std of the data: \", round(np.std(weight),2))\n",
    "print(\"Coffiecient of Variation for the instrument is :\" , round(var,2))"
   ]
  },
  {
   "attachments": {},
   "cell_type": "markdown",
   "metadata": {},
   "source": [
    "Suppose we have two repeated measurements of packed cell volume, as follows and we want to explore COV between these two datasets:"
   ]
  },
  {
   "cell_type": "code",
   "execution_count": 10,
   "metadata": {},
   "outputs": [],
   "source": [
    "data_1 = np.array([33,31,23,25,29,26,28,29,30,31])\n",
    "data_2 = np.array([35,36,29,28,27,28,31,32,26,25])"
   ]
  },
  {
   "cell_type": "code",
   "execution_count": 15,
   "metadata": {},
   "outputs": [],
   "source": [
    "var_1 = variation(data_1)*100\n",
    "var_2 = variation(data_2)*100"
   ]
  },
  {
   "cell_type": "code",
   "execution_count": 16,
   "metadata": {},
   "outputs": [
    {
     "name": "stdout",
     "output_type": "stream",
     "text": [
      "Coffiecient of Variation for data_1 is : 10.2\n",
      "Coffiecient of Variation for data_2 is : 11.86\n"
     ]
    }
   ],
   "source": [
    "print(\"Coffiecient of Variation for data_1 is :\" , round(var_1,2))\n",
    "print(\"Coffiecient of Variation for data_2 is :\" , round(var_2,2))\n",
    "\n"
   ]
  },
  {
   "attachments": {},
   "cell_type": "markdown",
   "metadata": {},
   "source": [
    "Now we will calculate COV between `data_1` and `data_2`"
   ]
  },
  {
   "cell_type": "code",
   "execution_count": 18,
   "metadata": {},
   "outputs": [],
   "source": [
    "data = {\"Data_1\": data_1, \"Data_2\":data_2}\n",
    "dataset = pd.DataFrame(data)"
   ]
  },
  {
   "cell_type": "code",
   "execution_count": 19,
   "metadata": {},
   "outputs": [
    {
     "data": {
      "text/html": [
       "<div>\n",
       "<style scoped>\n",
       "    .dataframe tbody tr th:only-of-type {\n",
       "        vertical-align: middle;\n",
       "    }\n",
       "\n",
       "    .dataframe tbody tr th {\n",
       "        vertical-align: top;\n",
       "    }\n",
       "\n",
       "    .dataframe thead th {\n",
       "        text-align: right;\n",
       "    }\n",
       "</style>\n",
       "<table border=\"1\" class=\"dataframe\">\n",
       "  <thead>\n",
       "    <tr style=\"text-align: right;\">\n",
       "      <th></th>\n",
       "      <th>Data_1</th>\n",
       "      <th>Data_2</th>\n",
       "    </tr>\n",
       "  </thead>\n",
       "  <tbody>\n",
       "    <tr>\n",
       "      <th>0</th>\n",
       "      <td>33</td>\n",
       "      <td>35</td>\n",
       "    </tr>\n",
       "    <tr>\n",
       "      <th>1</th>\n",
       "      <td>31</td>\n",
       "      <td>36</td>\n",
       "    </tr>\n",
       "    <tr>\n",
       "      <th>2</th>\n",
       "      <td>23</td>\n",
       "      <td>29</td>\n",
       "    </tr>\n",
       "    <tr>\n",
       "      <th>3</th>\n",
       "      <td>25</td>\n",
       "      <td>28</td>\n",
       "    </tr>\n",
       "    <tr>\n",
       "      <th>4</th>\n",
       "      <td>29</td>\n",
       "      <td>27</td>\n",
       "    </tr>\n",
       "  </tbody>\n",
       "</table>\n",
       "</div>"
      ],
      "text/plain": [
       "   Data_1  Data_2\n",
       "0      33      35\n",
       "1      31      36\n",
       "2      23      29\n",
       "3      25      28\n",
       "4      29      27"
      ]
     },
     "execution_count": 19,
     "metadata": {},
     "output_type": "execute_result"
    }
   ],
   "source": [
    "dataset.head()"
   ]
  },
  {
   "cell_type": "code",
   "execution_count": 20,
   "metadata": {},
   "outputs": [],
   "source": [
    "dataset[\"Mean\"]= dataset.mean(axis=1)\n",
    "dataset[\"Std\"] = dataset.std(axis=1)\n",
    "dataset[\"COV\"] = dataset[\"Std\"]/dataset[\"Mean\"]*100"
   ]
  },
  {
   "cell_type": "code",
   "execution_count": 21,
   "metadata": {},
   "outputs": [
    {
     "data": {
      "text/html": [
       "<div>\n",
       "<style scoped>\n",
       "    .dataframe tbody tr th:only-of-type {\n",
       "        vertical-align: middle;\n",
       "    }\n",
       "\n",
       "    .dataframe tbody tr th {\n",
       "        vertical-align: top;\n",
       "    }\n",
       "\n",
       "    .dataframe thead th {\n",
       "        text-align: right;\n",
       "    }\n",
       "</style>\n",
       "<table border=\"1\" class=\"dataframe\">\n",
       "  <thead>\n",
       "    <tr style=\"text-align: right;\">\n",
       "      <th></th>\n",
       "      <th>Data_1</th>\n",
       "      <th>Data_2</th>\n",
       "      <th>Mean</th>\n",
       "      <th>Std</th>\n",
       "      <th>COV</th>\n",
       "    </tr>\n",
       "  </thead>\n",
       "  <tbody>\n",
       "    <tr>\n",
       "      <th>0</th>\n",
       "      <td>33</td>\n",
       "      <td>35</td>\n",
       "      <td>34.0</td>\n",
       "      <td>1.0</td>\n",
       "      <td>2.941176</td>\n",
       "    </tr>\n",
       "    <tr>\n",
       "      <th>1</th>\n",
       "      <td>31</td>\n",
       "      <td>36</td>\n",
       "      <td>33.5</td>\n",
       "      <td>2.5</td>\n",
       "      <td>7.462687</td>\n",
       "    </tr>\n",
       "    <tr>\n",
       "      <th>2</th>\n",
       "      <td>23</td>\n",
       "      <td>29</td>\n",
       "      <td>26.0</td>\n",
       "      <td>3.0</td>\n",
       "      <td>11.538462</td>\n",
       "    </tr>\n",
       "    <tr>\n",
       "      <th>3</th>\n",
       "      <td>25</td>\n",
       "      <td>28</td>\n",
       "      <td>26.5</td>\n",
       "      <td>1.5</td>\n",
       "      <td>5.660377</td>\n",
       "    </tr>\n",
       "    <tr>\n",
       "      <th>4</th>\n",
       "      <td>29</td>\n",
       "      <td>27</td>\n",
       "      <td>28.0</td>\n",
       "      <td>1.0</td>\n",
       "      <td>3.571429</td>\n",
       "    </tr>\n",
       "  </tbody>\n",
       "</table>\n",
       "</div>"
      ],
      "text/plain": [
       "   Data_1  Data_2  Mean  Std        COV\n",
       "0      33      35  34.0  1.0   2.941176\n",
       "1      31      36  33.5  2.5   7.462687\n",
       "2      23      29  26.0  3.0  11.538462\n",
       "3      25      28  26.5  1.5   5.660377\n",
       "4      29      27  28.0  1.0   3.571429"
      ]
     },
     "execution_count": 21,
     "metadata": {},
     "output_type": "execute_result"
    }
   ],
   "source": [
    "dataset.head()"
   ]
  },
  {
   "cell_type": "code",
   "execution_count": 27,
   "metadata": {},
   "outputs": [
    {
     "name": "stdout",
     "output_type": "stream",
     "text": [
      "COV between groups is :  10.0\n"
     ]
    }
   ],
   "source": [
    "print(\"COV between groups is : \", round(dataset.Mean.std()/dataset.Mean.mean(),2)*100)"
   ]
  },
  {
   "attachments": {},
   "cell_type": "markdown",
   "metadata": {},
   "source": [
    "### Pearson Correlation Coefficient"
   ]
  },
  {
   "attachments": {},
   "cell_type": "markdown",
   "metadata": {},
   "source": [
    "First we will try to find correlation coefficient between age and blood pressure of sample from India."
   ]
  },
  {
   "cell_type": "code",
   "execution_count": 3,
   "metadata": {},
   "outputs": [],
   "source": [
    "data = pd.read_csv(\"India.csv\")"
   ]
  },
  {
   "cell_type": "code",
   "execution_count": 4,
   "metadata": {},
   "outputs": [
    {
     "data": {
      "text/html": [
       "<div>\n",
       "<style scoped>\n",
       "    .dataframe tbody tr th:only-of-type {\n",
       "        vertical-align: middle;\n",
       "    }\n",
       "\n",
       "    .dataframe tbody tr th {\n",
       "        vertical-align: top;\n",
       "    }\n",
       "\n",
       "    .dataframe thead th {\n",
       "        text-align: right;\n",
       "    }\n",
       "</style>\n",
       "<table border=\"1\" class=\"dataframe\">\n",
       "  <thead>\n",
       "    <tr style=\"text-align: right;\">\n",
       "      <th></th>\n",
       "      <th>Country</th>\n",
       "      <th>Sex</th>\n",
       "      <th>Year</th>\n",
       "      <th>Age-standardised mean systolic blood pressure (mmHg)</th>\n",
       "      <th>Age-standardised mean systolic blood pressure lower 95% uncertainty interval (mmHg)</th>\n",
       "      <th>Age-standardised mean systolic blood pressure upper 95% uncertainty interval (mmHg)</th>\n",
       "      <th>Age-standardised mean diastolic blood pressure (mmHg)</th>\n",
       "      <th>Age-standardised mean diastolic blood pressure lower 95% uncertainty interval (mmHg)</th>\n",
       "      <th>Age-standardised mean diastolic blood pressure upper 95% uncertainty interval (mmHg)</th>\n",
       "      <th>Age-standardised prevalence of raised blood pressure</th>\n",
       "      <th>Age-standardised prevalence of raised blood pressure lower 95% uncertainty interval</th>\n",
       "      <th>Age-standardised prevalence of raised blood pressure upper 95% uncertainty interval</th>\n",
       "      <th>Crude prevalence of raised blood pressure</th>\n",
       "      <th>Crude prevalence of raised blood pressure lower 95% uncertainty interval</th>\n",
       "      <th>Crude prevalence of raised blood pressure upper 95% uncertainty interval</th>\n",
       "      <th>Number of adults with raised blood pressure</th>\n",
       "      <th>Number of adults with raised blood pressure lower 95% uncertainty interval</th>\n",
       "      <th>Number of adults with raised blood pressure upper 95% uncertainty interval</th>\n",
       "    </tr>\n",
       "  </thead>\n",
       "  <tbody>\n",
       "    <tr>\n",
       "      <th>0</th>\n",
       "      <td>India</td>\n",
       "      <td>Men</td>\n",
       "      <td>1975</td>\n",
       "      <td>122.350379</td>\n",
       "      <td>114.041114</td>\n",
       "      <td>130.406286</td>\n",
       "      <td>78.007941</td>\n",
       "      <td>72.435968</td>\n",
       "      <td>83.795106</td>\n",
       "      <td>0.242063</td>\n",
       "      <td>0.140102</td>\n",
       "      <td>0.361623</td>\n",
       "      <td>0.205485</td>\n",
       "      <td>0.115452</td>\n",
       "      <td>0.315216</td>\n",
       "      <td>3.554521e+07</td>\n",
       "      <td>1.944980e+07</td>\n",
       "      <td>5.483609e+07</td>\n",
       "    </tr>\n",
       "    <tr>\n",
       "      <th>1</th>\n",
       "      <td>India</td>\n",
       "      <td>Men</td>\n",
       "      <td>1976</td>\n",
       "      <td>122.455017</td>\n",
       "      <td>114.618921</td>\n",
       "      <td>129.962311</td>\n",
       "      <td>78.057072</td>\n",
       "      <td>72.873279</td>\n",
       "      <td>83.382430</td>\n",
       "      <td>0.242517</td>\n",
       "      <td>0.145429</td>\n",
       "      <td>0.355080</td>\n",
       "      <td>0.205494</td>\n",
       "      <td>0.120293</td>\n",
       "      <td>0.308229</td>\n",
       "      <td>3.652564e+07</td>\n",
       "      <td>2.073441e+07</td>\n",
       "      <td>5.508953e+07</td>\n",
       "    </tr>\n",
       "    <tr>\n",
       "      <th>2</th>\n",
       "      <td>India</td>\n",
       "      <td>Men</td>\n",
       "      <td>1977</td>\n",
       "      <td>122.557283</td>\n",
       "      <td>115.219463</td>\n",
       "      <td>129.524269</td>\n",
       "      <td>78.103911</td>\n",
       "      <td>73.299619</td>\n",
       "      <td>83.091873</td>\n",
       "      <td>0.242985</td>\n",
       "      <td>0.151062</td>\n",
       "      <td>0.348327</td>\n",
       "      <td>0.205588</td>\n",
       "      <td>0.124489</td>\n",
       "      <td>0.301771</td>\n",
       "      <td>3.753863e+07</td>\n",
       "      <td>2.207958e+07</td>\n",
       "      <td>5.545092e+07</td>\n",
       "    </tr>\n",
       "    <tr>\n",
       "      <th>3</th>\n",
       "      <td>India</td>\n",
       "      <td>Men</td>\n",
       "      <td>1978</td>\n",
       "      <td>122.655957</td>\n",
       "      <td>115.878855</td>\n",
       "      <td>129.206492</td>\n",
       "      <td>78.148476</td>\n",
       "      <td>73.666794</td>\n",
       "      <td>82.785494</td>\n",
       "      <td>0.243477</td>\n",
       "      <td>0.156043</td>\n",
       "      <td>0.342532</td>\n",
       "      <td>0.205761</td>\n",
       "      <td>0.128542</td>\n",
       "      <td>0.295435</td>\n",
       "      <td>3.858531e+07</td>\n",
       "      <td>2.346635e+07</td>\n",
       "      <td>5.579576e+07</td>\n",
       "    </tr>\n",
       "    <tr>\n",
       "      <th>4</th>\n",
       "      <td>India</td>\n",
       "      <td>Men</td>\n",
       "      <td>1979</td>\n",
       "      <td>122.756322</td>\n",
       "      <td>116.518464</td>\n",
       "      <td>128.682056</td>\n",
       "      <td>78.193339</td>\n",
       "      <td>73.970279</td>\n",
       "      <td>82.465459</td>\n",
       "      <td>0.244013</td>\n",
       "      <td>0.160331</td>\n",
       "      <td>0.337049</td>\n",
       "      <td>0.206013</td>\n",
       "      <td>0.132655</td>\n",
       "      <td>0.290323</td>\n",
       "      <td>3.966980e+07</td>\n",
       "      <td>2.485945e+07</td>\n",
       "      <td>5.636873e+07</td>\n",
       "    </tr>\n",
       "  </tbody>\n",
       "</table>\n",
       "</div>"
      ],
      "text/plain": [
       "  Country  Sex  Year  Age-standardised mean systolic blood pressure (mmHg)  \\\n",
       "0   India  Men  1975                                         122.350379      \n",
       "1   India  Men  1976                                         122.455017      \n",
       "2   India  Men  1977                                         122.557283      \n",
       "3   India  Men  1978                                         122.655957      \n",
       "4   India  Men  1979                                         122.756322      \n",
       "\n",
       "   Age-standardised mean systolic blood pressure lower 95% uncertainty interval (mmHg)  \\\n",
       "0                                         114.041114                                     \n",
       "1                                         114.618921                                     \n",
       "2                                         115.219463                                     \n",
       "3                                         115.878855                                     \n",
       "4                                         116.518464                                     \n",
       "\n",
       "   Age-standardised mean systolic blood pressure upper 95% uncertainty interval (mmHg)  \\\n",
       "0                                         130.406286                                     \n",
       "1                                         129.962311                                     \n",
       "2                                         129.524269                                     \n",
       "3                                         129.206492                                     \n",
       "4                                         128.682056                                     \n",
       "\n",
       "   Age-standardised mean diastolic blood pressure (mmHg)  \\\n",
       "0                                          78.007941       \n",
       "1                                          78.057072       \n",
       "2                                          78.103911       \n",
       "3                                          78.148476       \n",
       "4                                          78.193339       \n",
       "\n",
       "   Age-standardised mean diastolic blood pressure lower 95% uncertainty interval (mmHg)  \\\n",
       "0                                          72.435968                                      \n",
       "1                                          72.873279                                      \n",
       "2                                          73.299619                                      \n",
       "3                                          73.666794                                      \n",
       "4                                          73.970279                                      \n",
       "\n",
       "   Age-standardised mean diastolic blood pressure upper 95% uncertainty interval (mmHg)  \\\n",
       "0                                          83.795106                                      \n",
       "1                                          83.382430                                      \n",
       "2                                          83.091873                                      \n",
       "3                                          82.785494                                      \n",
       "4                                          82.465459                                      \n",
       "\n",
       "   Age-standardised prevalence of raised blood pressure  \\\n",
       "0                                           0.242063      \n",
       "1                                           0.242517      \n",
       "2                                           0.242985      \n",
       "3                                           0.243477      \n",
       "4                                           0.244013      \n",
       "\n",
       "   Age-standardised prevalence of raised blood pressure lower 95% uncertainty interval  \\\n",
       "0                                           0.140102                                     \n",
       "1                                           0.145429                                     \n",
       "2                                           0.151062                                     \n",
       "3                                           0.156043                                     \n",
       "4                                           0.160331                                     \n",
       "\n",
       "   Age-standardised prevalence of raised blood pressure upper 95% uncertainty interval  \\\n",
       "0                                           0.361623                                     \n",
       "1                                           0.355080                                     \n",
       "2                                           0.348327                                     \n",
       "3                                           0.342532                                     \n",
       "4                                           0.337049                                     \n",
       "\n",
       "   Crude prevalence of raised blood pressure  \\\n",
       "0                                   0.205485   \n",
       "1                                   0.205494   \n",
       "2                                   0.205588   \n",
       "3                                   0.205761   \n",
       "4                                   0.206013   \n",
       "\n",
       "   Crude prevalence of raised blood pressure lower 95% uncertainty interval  \\\n",
       "0                                           0.115452                          \n",
       "1                                           0.120293                          \n",
       "2                                           0.124489                          \n",
       "3                                           0.128542                          \n",
       "4                                           0.132655                          \n",
       "\n",
       "   Crude prevalence of raised blood pressure upper 95% uncertainty interval  \\\n",
       "0                                           0.315216                          \n",
       "1                                           0.308229                          \n",
       "2                                           0.301771                          \n",
       "3                                           0.295435                          \n",
       "4                                           0.290323                          \n",
       "\n",
       "   Number of adults with raised blood pressure  \\\n",
       "0                                 3.554521e+07   \n",
       "1                                 3.652564e+07   \n",
       "2                                 3.753863e+07   \n",
       "3                                 3.858531e+07   \n",
       "4                                 3.966980e+07   \n",
       "\n",
       "   Number of adults with raised blood pressure lower 95% uncertainty interval  \\\n",
       "0                                       1.944980e+07                            \n",
       "1                                       2.073441e+07                            \n",
       "2                                       2.207958e+07                            \n",
       "3                                       2.346635e+07                            \n",
       "4                                       2.485945e+07                            \n",
       "\n",
       "   Number of adults with raised blood pressure upper 95% uncertainty interval  \n",
       "0                                       5.483609e+07                           \n",
       "1                                       5.508953e+07                           \n",
       "2                                       5.545092e+07                           \n",
       "3                                       5.579576e+07                           \n",
       "4                                       5.636873e+07                           "
      ]
     },
     "execution_count": 4,
     "metadata": {},
     "output_type": "execute_result"
    }
   ],
   "source": [
    "data.head()"
   ]
  },
  {
   "attachments": {},
   "cell_type": "markdown",
   "metadata": {},
   "source": [
    "This dataset is huge but we will focus on only few aspects of it for our purpose. "
   ]
  },
  {
   "cell_type": "code",
   "execution_count": 33,
   "metadata": {},
   "outputs": [
    {
     "data": {
      "text/plain": [
       "1975    2\n",
       "1996    2\n",
       "1998    2\n",
       "1999    2\n",
       "2000    2\n",
       "2001    2\n",
       "2002    2\n",
       "2003    2\n",
       "2004    2\n",
       "2005    2\n",
       "2006    2\n",
       "2007    2\n",
       "2008    2\n",
       "2009    2\n",
       "2010    2\n",
       "2011    2\n",
       "2012    2\n",
       "2013    2\n",
       "2014    2\n",
       "1997    2\n",
       "1995    2\n",
       "1976    2\n",
       "1994    2\n",
       "1977    2\n",
       "1978    2\n",
       "1979    2\n",
       "1980    2\n",
       "1981    2\n",
       "1982    2\n",
       "1983    2\n",
       "1984    2\n",
       "1985    2\n",
       "1986    2\n",
       "1987    2\n",
       "1988    2\n",
       "1989    2\n",
       "1990    2\n",
       "1991    2\n",
       "1992    2\n",
       "1993    2\n",
       "2015    2\n",
       "Name: Year, dtype: int64"
      ]
     },
     "execution_count": 33,
     "metadata": {},
     "output_type": "execute_result"
    }
   ],
   "source": [
    "data[\"Year\"].value_counts()"
   ]
  },
  {
   "attachments": {},
   "cell_type": "markdown",
   "metadata": {},
   "source": [
    "As we can clearly see this dataset is split into two parts one for men and other for women , so we will analyse how blood pressure level has changed for both genders one by one."
   ]
  },
  {
   "cell_type": "code",
   "execution_count": 34,
   "metadata": {},
   "outputs": [],
   "source": [
    "## For women\n",
    "mask  = data[\"Sex\"]==\"Women\"\n"
   ]
  },
  {
   "attachments": {},
   "cell_type": "markdown",
   "metadata": {},
   "source": [
    "Now we will find the correlation between year and blood pressure."
   ]
  },
  {
   "cell_type": "code",
   "execution_count": 35,
   "metadata": {},
   "outputs": [],
   "source": [
    "p = data.columns[3]"
   ]
  },
  {
   "cell_type": "code",
   "execution_count": 36,
   "metadata": {},
   "outputs": [
    {
     "data": {
      "text/plain": [
       "'Age-standardised mean systolic blood pressure (mmHg)'"
      ]
     },
     "execution_count": 36,
     "metadata": {},
     "output_type": "execute_result"
    }
   ],
   "source": [
    "p"
   ]
  },
  {
   "cell_type": "code",
   "execution_count": 37,
   "metadata": {},
   "outputs": [],
   "source": [
    "correlation_for_women = data[mask][\"Year\"].corr(data[mask][p])"
   ]
  },
  {
   "cell_type": "code",
   "execution_count": 39,
   "metadata": {},
   "outputs": [
    {
     "name": "stdout",
     "output_type": "stream",
     "text": [
      "Coorelation between Women blood pressure and year is   0.98597\n"
     ]
    }
   ],
   "source": [
    "print(\"Coorelation between Women blood pressure and year is  \", round(correlation_for_women,5))"
   ]
  },
  {
   "attachments": {},
   "cell_type": "markdown",
   "metadata": {},
   "source": [
    "Now performing same analysis for Men"
   ]
  },
  {
   "cell_type": "code",
   "execution_count": 40,
   "metadata": {},
   "outputs": [
    {
     "name": "stdout",
     "output_type": "stream",
     "text": [
      "Coorelation between Men blood pressure and year is   0.99392\n"
     ]
    }
   ],
   "source": [
    "mask_1 = data[\"Sex\"]==\"Men\"\n",
    "correlation_for_Men = data[mask_1][\"Year\"].corr(data[mask_1][p])\n",
    "print(\"Coorelation between Men blood pressure and year is  \", round(correlation_for_Men,5))"
   ]
  },
  {
   "attachments": {},
   "cell_type": "markdown",
   "metadata": {},
   "source": [
    "This implies Men blood pressure has little higher correlation comapred to Women."
   ]
  },
  {
   "attachments": {},
   "cell_type": "markdown",
   "metadata": {},
   "source": [
    "#### Breast cancer data [Refrence](https://data.world/deviramanan2016/nki-breast-cancer-data/workspace/project-summary?agentid=deviramanan2016&datasetid=nki-breast-cancer-data)\n",
    "\n",
    "272 breast cancer patients (as rows), 1570 columns.\n",
    "Network built using only gene expression.\n",
    "Meta data includes patient info, treatment, and survival.\n",
    "\n",
    "Each node is a group of patients similar to each other. Flares (left) represent sub-populations that are distinct from the larger population. (One differentiating factor between the two flares is estrogen expression (low = top flare, high = bottom flare)). Bottom flare is a group of patients with 100% survival. Top flare shows a range of survival – very poor towards the tip (red), and very good near the base (circled).\n",
    "\n",
    "The circled group of good survivors have genetic indicators of poor survivors (i.e. low ESR1 levels, which is typically the prognostic indicator of poor outcomes in breast cancer) – understanding this group could be critical for helping improve mortality rates for this disease. Why this group survived was quickly analysed by using the Outcome Column (here Event Death - which is binary - 0,1) as a Data Lens (which we term Supervised vs Unsupervised analyses)."
   ]
  },
  {
   "cell_type": "code",
   "execution_count": 7,
   "metadata": {},
   "outputs": [],
   "source": [
    "b_data = pd.read_csv(\"NKI_cleaned.csv\")"
   ]
  },
  {
   "cell_type": "code",
   "execution_count": 8,
   "metadata": {},
   "outputs": [
    {
     "data": {
      "text/html": [
       "<div>\n",
       "<style scoped>\n",
       "    .dataframe tbody tr th:only-of-type {\n",
       "        vertical-align: middle;\n",
       "    }\n",
       "\n",
       "    .dataframe tbody tr th {\n",
       "        vertical-align: top;\n",
       "    }\n",
       "\n",
       "    .dataframe thead th {\n",
       "        text-align: right;\n",
       "    }\n",
       "</style>\n",
       "<table border=\"1\" class=\"dataframe\">\n",
       "  <thead>\n",
       "    <tr style=\"text-align: right;\">\n",
       "      <th></th>\n",
       "      <th>Patient</th>\n",
       "      <th>ID</th>\n",
       "      <th>age</th>\n",
       "      <th>eventdeath</th>\n",
       "      <th>survival</th>\n",
       "      <th>timerecurrence</th>\n",
       "      <th>chemo</th>\n",
       "      <th>hormonal</th>\n",
       "      <th>amputation</th>\n",
       "      <th>histtype</th>\n",
       "      <th>...</th>\n",
       "      <th>Contig36312_RC</th>\n",
       "      <th>Contig38980_RC</th>\n",
       "      <th>NM_000853</th>\n",
       "      <th>NM_000854</th>\n",
       "      <th>NM_000860</th>\n",
       "      <th>Contig29014_RC</th>\n",
       "      <th>Contig46616_RC</th>\n",
       "      <th>NM_000888</th>\n",
       "      <th>NM_000898</th>\n",
       "      <th>AF067420</th>\n",
       "    </tr>\n",
       "  </thead>\n",
       "  <tbody>\n",
       "    <tr>\n",
       "      <th>0</th>\n",
       "      <td>s122</td>\n",
       "      <td>18</td>\n",
       "      <td>43</td>\n",
       "      <td>0</td>\n",
       "      <td>14.817248</td>\n",
       "      <td>14.817248</td>\n",
       "      <td>0</td>\n",
       "      <td>0</td>\n",
       "      <td>1</td>\n",
       "      <td>1</td>\n",
       "      <td>...</td>\n",
       "      <td>0.591103</td>\n",
       "      <td>-0.355018</td>\n",
       "      <td>0.373644</td>\n",
       "      <td>-0.760690</td>\n",
       "      <td>-0.164025</td>\n",
       "      <td>-0.038726</td>\n",
       "      <td>0.237856</td>\n",
       "      <td>-0.087631</td>\n",
       "      <td>-0.369153</td>\n",
       "      <td>0.153795</td>\n",
       "    </tr>\n",
       "    <tr>\n",
       "      <th>1</th>\n",
       "      <td>s123</td>\n",
       "      <td>19</td>\n",
       "      <td>48</td>\n",
       "      <td>0</td>\n",
       "      <td>14.261465</td>\n",
       "      <td>14.261465</td>\n",
       "      <td>0</td>\n",
       "      <td>0</td>\n",
       "      <td>0</td>\n",
       "      <td>1</td>\n",
       "      <td>...</td>\n",
       "      <td>-0.199829</td>\n",
       "      <td>-0.001635</td>\n",
       "      <td>-0.062922</td>\n",
       "      <td>-0.682204</td>\n",
       "      <td>-0.220934</td>\n",
       "      <td>-0.100088</td>\n",
       "      <td>-0.466537</td>\n",
       "      <td>-0.231547</td>\n",
       "      <td>-0.643019</td>\n",
       "      <td>-0.014098</td>\n",
       "    </tr>\n",
       "    <tr>\n",
       "      <th>2</th>\n",
       "      <td>s124</td>\n",
       "      <td>20</td>\n",
       "      <td>38</td>\n",
       "      <td>0</td>\n",
       "      <td>6.644764</td>\n",
       "      <td>6.644764</td>\n",
       "      <td>0</td>\n",
       "      <td>0</td>\n",
       "      <td>0</td>\n",
       "      <td>1</td>\n",
       "      <td>...</td>\n",
       "      <td>0.328736</td>\n",
       "      <td>-0.047571</td>\n",
       "      <td>0.084228</td>\n",
       "      <td>-0.695950</td>\n",
       "      <td>-0.402840</td>\n",
       "      <td>-0.099965</td>\n",
       "      <td>0.110155</td>\n",
       "      <td>-0.114298</td>\n",
       "      <td>0.258495</td>\n",
       "      <td>-0.198911</td>\n",
       "    </tr>\n",
       "    <tr>\n",
       "      <th>3</th>\n",
       "      <td>s125</td>\n",
       "      <td>21</td>\n",
       "      <td>50</td>\n",
       "      <td>0</td>\n",
       "      <td>7.748118</td>\n",
       "      <td>7.748118</td>\n",
       "      <td>0</td>\n",
       "      <td>1</td>\n",
       "      <td>0</td>\n",
       "      <td>1</td>\n",
       "      <td>...</td>\n",
       "      <td>0.648861</td>\n",
       "      <td>-0.039088</td>\n",
       "      <td>0.182182</td>\n",
       "      <td>-0.524640</td>\n",
       "      <td>0.037320</td>\n",
       "      <td>-0.167688</td>\n",
       "      <td>-0.016790</td>\n",
       "      <td>-0.285344</td>\n",
       "      <td>-0.251188</td>\n",
       "      <td>0.862710</td>\n",
       "    </tr>\n",
       "    <tr>\n",
       "      <th>4</th>\n",
       "      <td>s126</td>\n",
       "      <td>22</td>\n",
       "      <td>38</td>\n",
       "      <td>0</td>\n",
       "      <td>6.436687</td>\n",
       "      <td>6.318960</td>\n",
       "      <td>0</td>\n",
       "      <td>0</td>\n",
       "      <td>1</td>\n",
       "      <td>1</td>\n",
       "      <td>...</td>\n",
       "      <td>-0.287538</td>\n",
       "      <td>-0.286893</td>\n",
       "      <td>0.057082</td>\n",
       "      <td>-0.565021</td>\n",
       "      <td>-0.105632</td>\n",
       "      <td>-0.108148</td>\n",
       "      <td>-0.405853</td>\n",
       "      <td>-0.053601</td>\n",
       "      <td>-0.677072</td>\n",
       "      <td>0.134160</td>\n",
       "    </tr>\n",
       "  </tbody>\n",
       "</table>\n",
       "<p>5 rows × 1570 columns</p>\n",
       "</div>"
      ],
      "text/plain": [
       "  Patient  ID  age  eventdeath   survival  timerecurrence  chemo  hormonal  \\\n",
       "0    s122  18   43           0  14.817248       14.817248      0         0   \n",
       "1    s123  19   48           0  14.261465       14.261465      0         0   \n",
       "2    s124  20   38           0   6.644764        6.644764      0         0   \n",
       "3    s125  21   50           0   7.748118        7.748118      0         1   \n",
       "4    s126  22   38           0   6.436687        6.318960      0         0   \n",
       "\n",
       "   amputation  histtype  ...  Contig36312_RC  Contig38980_RC  NM_000853  \\\n",
       "0           1         1  ...        0.591103       -0.355018   0.373644   \n",
       "1           0         1  ...       -0.199829       -0.001635  -0.062922   \n",
       "2           0         1  ...        0.328736       -0.047571   0.084228   \n",
       "3           0         1  ...        0.648861       -0.039088   0.182182   \n",
       "4           1         1  ...       -0.287538       -0.286893   0.057082   \n",
       "\n",
       "   NM_000854  NM_000860  Contig29014_RC  Contig46616_RC  NM_000888  NM_000898  \\\n",
       "0  -0.760690  -0.164025       -0.038726        0.237856  -0.087631  -0.369153   \n",
       "1  -0.682204  -0.220934       -0.100088       -0.466537  -0.231547  -0.643019   \n",
       "2  -0.695950  -0.402840       -0.099965        0.110155  -0.114298   0.258495   \n",
       "3  -0.524640   0.037320       -0.167688       -0.016790  -0.285344  -0.251188   \n",
       "4  -0.565021  -0.105632       -0.108148       -0.405853  -0.053601  -0.677072   \n",
       "\n",
       "   AF067420  \n",
       "0  0.153795  \n",
       "1 -0.014098  \n",
       "2 -0.198911  \n",
       "3  0.862710  \n",
       "4  0.134160  \n",
       "\n",
       "[5 rows x 1570 columns]"
      ]
     },
     "execution_count": 8,
     "metadata": {},
     "output_type": "execute_result"
    }
   ],
   "source": [
    "b_data.head()"
   ]
  },
  {
   "attachments": {},
   "cell_type": "markdown",
   "metadata": {},
   "source": [
    "We will find person correlation between age and survival:"
   ]
  },
  {
   "cell_type": "code",
   "execution_count": 14,
   "metadata": {},
   "outputs": [
    {
     "data": {
      "image/png": "[encoded data removed]",
      "text/plain": [
       "<Figure size 640x480 with 1 Axes>"
      ]
     },
     "metadata": {},
     "output_type": "display_data"
    }
   ],
   "source": [
    "# hist plot\n",
    "plt.scatter(b_data.age,b_data.survival)\n",
    "plt.xlabel(\"Age\")\n",
    "plt.ylabel(\"Survival\")\n",
    "plt.title(\"Correlation between Age and Survival\");"
   ]
  },
  {
   "attachments": {},
   "cell_type": "markdown",
   "metadata": {},
   "source": [
    "From the above graph, these two don't show a good correlation. let's compute it for verification"
   ]
  },
  {
   "cell_type": "code",
   "execution_count": 15,
   "metadata": {},
   "outputs": [
    {
     "name": "stdout",
     "output_type": "stream",
     "text": [
      "0.0769661672963595\n"
     ]
    }
   ],
   "source": [
    "corr = b_data[\"age\"].corr(b_data[\"survival\"])\n",
    "print(corr)"
   ]
  },
  {
   "attachments": {},
   "cell_type": "markdown",
   "metadata": {},
   "source": [
    "### Spearman Correlation Coefficient on Linnerud Dataset:[ Refrence ](https://scikit-learn.org/stable/datasets/toy_dataset.html#linnerrud-dataset)\n",
    "The Linnerud dataset is a multi-output regression dataset. It consists of three exercise (data) and three physiological (target) variables collected from twenty middle-aged men in a fitness club:\n",
    "\n",
    "physiological - CSV containing 20 observations on 3 physiological variables:\n",
    "Weight, Waist and Pulse.\n",
    "\n",
    "exercise - CSV containing 20 observations on 3 exercise variables:\n",
    "Chins, Situps and Jumps."
   ]
  },
  {
   "cell_type": "code",
   "execution_count": 25,
   "metadata": {},
   "outputs": [],
   "source": [
    "from sklearn.datasets import load_linnerud"
   ]
  },
  {
   "cell_type": "code",
   "execution_count": 29,
   "metadata": {},
   "outputs": [
    {
     "data": {
      "text/html": [
       "<div>\n",
       "<style scoped>\n",
       "    .dataframe tbody tr th:only-of-type {\n",
       "        vertical-align: middle;\n",
       "    }\n",
       "\n",
       "    .dataframe tbody tr th {\n",
       "        vertical-align: top;\n",
       "    }\n",
       "\n",
       "    .dataframe thead th {\n",
       "        text-align: right;\n",
       "    }\n",
       "</style>\n",
       "<table border=\"1\" class=\"dataframe\">\n",
       "  <thead>\n",
       "    <tr style=\"text-align: right;\">\n",
       "      <th></th>\n",
       "      <th>Chins</th>\n",
       "      <th>Situps</th>\n",
       "      <th>Jumps</th>\n",
       "      <th>Weight</th>\n",
       "      <th>Waist</th>\n",
       "      <th>Pulse</th>\n",
       "    </tr>\n",
       "  </thead>\n",
       "  <tbody>\n",
       "    <tr>\n",
       "      <th>0</th>\n",
       "      <td>5.0</td>\n",
       "      <td>162.0</td>\n",
       "      <td>60.0</td>\n",
       "      <td>191.0</td>\n",
       "      <td>36.0</td>\n",
       "      <td>50.0</td>\n",
       "    </tr>\n",
       "    <tr>\n",
       "      <th>1</th>\n",
       "      <td>2.0</td>\n",
       "      <td>110.0</td>\n",
       "      <td>60.0</td>\n",
       "      <td>189.0</td>\n",
       "      <td>37.0</td>\n",
       "      <td>52.0</td>\n",
       "    </tr>\n",
       "    <tr>\n",
       "      <th>2</th>\n",
       "      <td>12.0</td>\n",
       "      <td>101.0</td>\n",
       "      <td>101.0</td>\n",
       "      <td>193.0</td>\n",
       "      <td>38.0</td>\n",
       "      <td>58.0</td>\n",
       "    </tr>\n",
       "    <tr>\n",
       "      <th>3</th>\n",
       "      <td>12.0</td>\n",
       "      <td>105.0</td>\n",
       "      <td>37.0</td>\n",
       "      <td>162.0</td>\n",
       "      <td>35.0</td>\n",
       "      <td>62.0</td>\n",
       "    </tr>\n",
       "    <tr>\n",
       "      <th>4</th>\n",
       "      <td>13.0</td>\n",
       "      <td>155.0</td>\n",
       "      <td>58.0</td>\n",
       "      <td>189.0</td>\n",
       "      <td>35.0</td>\n",
       "      <td>46.0</td>\n",
       "    </tr>\n",
       "  </tbody>\n",
       "</table>\n",
       "</div>"
      ],
      "text/plain": [
       "   Chins  Situps  Jumps  Weight  Waist  Pulse\n",
       "0    5.0   162.0   60.0   191.0   36.0   50.0\n",
       "1    2.0   110.0   60.0   189.0   37.0   52.0\n",
       "2   12.0   101.0  101.0   193.0   38.0   58.0\n",
       "3   12.0   105.0   37.0   162.0   35.0   62.0\n",
       "4   13.0   155.0   58.0   189.0   35.0   46.0"
      ]
     },
     "execution_count": 29,
     "metadata": {},
     "output_type": "execute_result"
    }
   ],
   "source": [
    "d=load_linnerud()\n",
    "\n",
    "dat = pd.DataFrame(d.data,columns=d.feature_names)\n",
    "alldat=dat.join(pd.DataFrame(d.target,columns=d.target_names) )\n",
    "alldat.head()"
   ]
  },
  {
   "cell_type": "code",
   "execution_count": 32,
   "metadata": {},
   "outputs": [],
   "source": [
    "correlation_matrix = alldat.corr(method='spearman')"
   ]
  },
  {
   "cell_type": "code",
   "execution_count": 34,
   "metadata": {},
   "outputs": [
    {
     "data": {
      "text/html": [
       "<div>\n",
       "<style scoped>\n",
       "    .dataframe tbody tr th:only-of-type {\n",
       "        vertical-align: middle;\n",
       "    }\n",
       "\n",
       "    .dataframe tbody tr th {\n",
       "        vertical-align: top;\n",
       "    }\n",
       "\n",
       "    .dataframe thead th {\n",
       "        text-align: right;\n",
       "    }\n",
       "</style>\n",
       "<table border=\"1\" class=\"dataframe\">\n",
       "  <thead>\n",
       "    <tr style=\"text-align: right;\">\n",
       "      <th></th>\n",
       "      <th>Chins</th>\n",
       "      <th>Situps</th>\n",
       "      <th>Jumps</th>\n",
       "      <th>Weight</th>\n",
       "      <th>Waist</th>\n",
       "      <th>Pulse</th>\n",
       "    </tr>\n",
       "  </thead>\n",
       "  <tbody>\n",
       "    <tr>\n",
       "      <th>Chins</th>\n",
       "      <td>1.000000</td>\n",
       "      <td>0.656203</td>\n",
       "      <td>0.322631</td>\n",
       "      <td>-0.380198</td>\n",
       "      <td>-0.541897</td>\n",
       "      <td>0.136623</td>\n",
       "    </tr>\n",
       "    <tr>\n",
       "      <th>Situps</th>\n",
       "      <td>0.656203</td>\n",
       "      <td>1.000000</td>\n",
       "      <td>0.695210</td>\n",
       "      <td>-0.577736</td>\n",
       "      <td>-0.724732</td>\n",
       "      <td>0.179236</td>\n",
       "    </tr>\n",
       "    <tr>\n",
       "      <th>Jumps</th>\n",
       "      <td>0.322631</td>\n",
       "      <td>0.695210</td>\n",
       "      <td>1.000000</td>\n",
       "      <td>-0.199020</td>\n",
       "      <td>-0.199399</td>\n",
       "      <td>0.098411</td>\n",
       "    </tr>\n",
       "    <tr>\n",
       "      <th>Weight</th>\n",
       "      <td>-0.380198</td>\n",
       "      <td>-0.577736</td>\n",
       "      <td>-0.199020</td>\n",
       "      <td>1.000000</td>\n",
       "      <td>0.814233</td>\n",
       "      <td>-0.370696</td>\n",
       "    </tr>\n",
       "    <tr>\n",
       "      <th>Waist</th>\n",
       "      <td>-0.541897</td>\n",
       "      <td>-0.724732</td>\n",
       "      <td>-0.199399</td>\n",
       "      <td>0.814233</td>\n",
       "      <td>1.000000</td>\n",
       "      <td>-0.237697</td>\n",
       "    </tr>\n",
       "    <tr>\n",
       "      <th>Pulse</th>\n",
       "      <td>0.136623</td>\n",
       "      <td>0.179236</td>\n",
       "      <td>0.098411</td>\n",
       "      <td>-0.370696</td>\n",
       "      <td>-0.237697</td>\n",
       "      <td>1.000000</td>\n",
       "    </tr>\n",
       "  </tbody>\n",
       "</table>\n",
       "</div>"
      ],
      "text/plain": [
       "           Chins    Situps     Jumps    Weight     Waist     Pulse\n",
       "Chins   1.000000  0.656203  0.322631 -0.380198 -0.541897  0.136623\n",
       "Situps  0.656203  1.000000  0.695210 -0.577736 -0.724732  0.179236\n",
       "Jumps   0.322631  0.695210  1.000000 -0.199020 -0.199399  0.098411\n",
       "Weight -0.380198 -0.577736 -0.199020  1.000000  0.814233 -0.370696\n",
       "Waist  -0.541897 -0.724732 -0.199399  0.814233  1.000000 -0.237697\n",
       "Pulse   0.136623  0.179236  0.098411 -0.370696 -0.237697  1.000000"
      ]
     },
     "execution_count": 34,
     "metadata": {},
     "output_type": "execute_result"
    }
   ],
   "source": [
    "correlation_matrix"
   ]
  },
  {
   "attachments": {},
   "cell_type": "markdown",
   "metadata": {},
   "source": [
    "From the above table it is clear that, we have good `spearman` correlation between `Weight` and `Pulse` , `Waist` and `Pulse` comapred to other features."
   ]
  },
  {
   "cell_type": "code",
   "execution_count": 35,
   "metadata": {},
   "outputs": [
    {
     "data": {
      "text/plain": [
       "<AxesSubplot:>"
      ]
     },
     "execution_count": 35,
     "metadata": {},
     "output_type": "execute_result"
    },
    {
     "data": {
      "image/png": "[encoded data removed]",
      "text/plain": [
       "<Figure size 640x480 with 2 Axes>"
      ]
     },
     "metadata": {},
     "output_type": "display_data"
    }
   ],
   "source": [
    "sns.heatmap(correlation_matrix)"
   ]
  },
  {
   "cell_type": "code",
   "execution_count": 48,
   "metadata": {},
   "outputs": [
    {
     "data": {
      "image/png": "[encoded data removed]",
      "text/plain": [
       "<Figure size 640x480 with 2 Axes>"
      ]
     },
     "metadata": {},
     "output_type": "display_data"
    }
   ],
   "source": [
    "fig,ax = plt.subplots(nrows= 2, ncols= 1)\n",
    "ax[0].scatter(alldat['Waist'], alldat['Pulse'])\n",
    "ax[0].set_title(\"Pulse vs Waist\")\n",
    "ax[0].set_xlabel(\"Waist\")\n",
    "ax[0].set_ylabel(\"Pulse\")\n",
    "ax[1].scatter(alldat['Weight'], alldat['Pulse'])\n",
    "ax[1].set_title(\"Pulse vs Weight\")\n",
    "ax[1].set_xlabel(\"Weight\")\n",
    "ax[1].set_ylabel(\"Pulse\")\n",
    "plt.subplots_adjust(top=1.7)\n",
    "plt.show();"
   ]
  },
  {
   "attachments": {},
   "cell_type": "markdown",
   "metadata": {},
   "source": [
    "### Spearman Correlation Coefficient on Diabetes Dataset:[ Refrence ](https://scikit-learn.org/stable/datasets/toy_dataset.html#Diabetes-dataset)\n",
    "\n",
    "Ten baseline variables, age, sex, body mass index, average blood pressure, and six blood serum measurements were obtained for each of n = 442 diabetes patients, as well as the response of interest, a quantitative measure of disease progression one year after baseline."
   ]
  },
  {
   "cell_type": "code",
   "execution_count": 56,
   "metadata": {},
   "outputs": [
    {
     "data": {
      "text/html": [
       "<div>\n",
       "<style scoped>\n",
       "    .dataframe tbody tr th:only-of-type {\n",
       "        vertical-align: middle;\n",
       "    }\n",
       "\n",
       "    .dataframe tbody tr th {\n",
       "        vertical-align: top;\n",
       "    }\n",
       "\n",
       "    .dataframe thead th {\n",
       "        text-align: right;\n",
       "    }\n",
       "</style>\n",
       "<table border=\"1\" class=\"dataframe\">\n",
       "  <thead>\n",
       "    <tr style=\"text-align: right;\">\n",
       "      <th></th>\n",
       "      <th>age</th>\n",
       "      <th>sex</th>\n",
       "      <th>bmi</th>\n",
       "      <th>bp</th>\n",
       "      <th>s1</th>\n",
       "      <th>s2</th>\n",
       "      <th>s3</th>\n",
       "      <th>s4</th>\n",
       "      <th>s5</th>\n",
       "      <th>s6</th>\n",
       "      <th>Target</th>\n",
       "    </tr>\n",
       "  </thead>\n",
       "  <tbody>\n",
       "    <tr>\n",
       "      <th>0</th>\n",
       "      <td>0.038076</td>\n",
       "      <td>0.050680</td>\n",
       "      <td>0.061696</td>\n",
       "      <td>0.021872</td>\n",
       "      <td>-0.044223</td>\n",
       "      <td>-0.034821</td>\n",
       "      <td>-0.043401</td>\n",
       "      <td>-0.002592</td>\n",
       "      <td>0.019908</td>\n",
       "      <td>-0.017646</td>\n",
       "      <td>151.0</td>\n",
       "    </tr>\n",
       "    <tr>\n",
       "      <th>1</th>\n",
       "      <td>-0.001882</td>\n",
       "      <td>-0.044642</td>\n",
       "      <td>-0.051474</td>\n",
       "      <td>-0.026328</td>\n",
       "      <td>-0.008449</td>\n",
       "      <td>-0.019163</td>\n",
       "      <td>0.074412</td>\n",
       "      <td>-0.039493</td>\n",
       "      <td>-0.068330</td>\n",
       "      <td>-0.092204</td>\n",
       "      <td>75.0</td>\n",
       "    </tr>\n",
       "    <tr>\n",
       "      <th>2</th>\n",
       "      <td>0.085299</td>\n",
       "      <td>0.050680</td>\n",
       "      <td>0.044451</td>\n",
       "      <td>-0.005671</td>\n",
       "      <td>-0.045599</td>\n",
       "      <td>-0.034194</td>\n",
       "      <td>-0.032356</td>\n",
       "      <td>-0.002592</td>\n",
       "      <td>0.002864</td>\n",
       "      <td>-0.025930</td>\n",
       "      <td>141.0</td>\n",
       "    </tr>\n",
       "    <tr>\n",
       "      <th>3</th>\n",
       "      <td>-0.089063</td>\n",
       "      <td>-0.044642</td>\n",
       "      <td>-0.011595</td>\n",
       "      <td>-0.036656</td>\n",
       "      <td>0.012191</td>\n",
       "      <td>0.024991</td>\n",
       "      <td>-0.036038</td>\n",
       "      <td>0.034309</td>\n",
       "      <td>0.022692</td>\n",
       "      <td>-0.009362</td>\n",
       "      <td>206.0</td>\n",
       "    </tr>\n",
       "    <tr>\n",
       "      <th>4</th>\n",
       "      <td>0.005383</td>\n",
       "      <td>-0.044642</td>\n",
       "      <td>-0.036385</td>\n",
       "      <td>0.021872</td>\n",
       "      <td>0.003935</td>\n",
       "      <td>0.015596</td>\n",
       "      <td>0.008142</td>\n",
       "      <td>-0.002592</td>\n",
       "      <td>-0.031991</td>\n",
       "      <td>-0.046641</td>\n",
       "      <td>135.0</td>\n",
       "    </tr>\n",
       "  </tbody>\n",
       "</table>\n",
       "</div>"
      ],
      "text/plain": [
       "        age       sex       bmi        bp        s1        s2        s3  \\\n",
       "0  0.038076  0.050680  0.061696  0.021872 -0.044223 -0.034821 -0.043401   \n",
       "1 -0.001882 -0.044642 -0.051474 -0.026328 -0.008449 -0.019163  0.074412   \n",
       "2  0.085299  0.050680  0.044451 -0.005671 -0.045599 -0.034194 -0.032356   \n",
       "3 -0.089063 -0.044642 -0.011595 -0.036656  0.012191  0.024991 -0.036038   \n",
       "4  0.005383 -0.044642 -0.036385  0.021872  0.003935  0.015596  0.008142   \n",
       "\n",
       "         s4        s5        s6  Target  \n",
       "0 -0.002592  0.019908 -0.017646   151.0  \n",
       "1 -0.039493 -0.068330 -0.092204    75.0  \n",
       "2 -0.002592  0.002864 -0.025930   141.0  \n",
       "3  0.034309  0.022692 -0.009362   206.0  \n",
       "4 -0.002592 -0.031991 -0.046641   135.0  "
      ]
     },
     "execution_count": 56,
     "metadata": {},
     "output_type": "execute_result"
    }
   ],
   "source": [
    "from sklearn.datasets import load_diabetes\n",
    "d=load_diabetes()\n",
    "\n",
    "dat = pd.DataFrame(d.data,columns=d.feature_names)\n",
    "alldat=dat.join(pd.DataFrame(d.target,columns=[\"Target\"]) )\n",
    "alldat.head()"
   ]
  },
  {
   "cell_type": "code",
   "execution_count": 58,
   "metadata": {},
   "outputs": [
    {
     "data": {
      "text/html": [
       "<div>\n",
       "<style scoped>\n",
       "    .dataframe tbody tr th:only-of-type {\n",
       "        vertical-align: middle;\n",
       "    }\n",
       "\n",
       "    .dataframe tbody tr th {\n",
       "        vertical-align: top;\n",
       "    }\n",
       "\n",
       "    .dataframe thead th {\n",
       "        text-align: right;\n",
       "    }\n",
       "</style>\n",
       "<table border=\"1\" class=\"dataframe\">\n",
       "  <thead>\n",
       "    <tr style=\"text-align: right;\">\n",
       "      <th></th>\n",
       "      <th>age</th>\n",
       "      <th>sex</th>\n",
       "      <th>bmi</th>\n",
       "      <th>bp</th>\n",
       "      <th>s1</th>\n",
       "      <th>s2</th>\n",
       "      <th>s3</th>\n",
       "      <th>s4</th>\n",
       "      <th>s5</th>\n",
       "      <th>s6</th>\n",
       "      <th>Target</th>\n",
       "    </tr>\n",
       "  </thead>\n",
       "  <tbody>\n",
       "    <tr>\n",
       "      <th>age</th>\n",
       "      <td>1.000000</td>\n",
       "      <td>0.177463</td>\n",
       "      <td>0.200554</td>\n",
       "      <td>0.350859</td>\n",
       "      <td>0.262524</td>\n",
       "      <td>0.221711</td>\n",
       "      <td>-0.106973</td>\n",
       "      <td>0.221017</td>\n",
       "      <td>0.265176</td>\n",
       "      <td>0.296235</td>\n",
       "      <td>0.197822</td>\n",
       "    </tr>\n",
       "    <tr>\n",
       "      <th>sex</th>\n",
       "      <td>0.177463</td>\n",
       "      <td>1.000000</td>\n",
       "      <td>0.098079</td>\n",
       "      <td>0.261508</td>\n",
       "      <td>0.027790</td>\n",
       "      <td>0.134695</td>\n",
       "      <td>-0.394584</td>\n",
       "      <td>0.337524</td>\n",
       "      <td>0.174625</td>\n",
       "      <td>0.203277</td>\n",
       "      <td>0.037401</td>\n",
       "    </tr>\n",
       "    <tr>\n",
       "      <th>bmi</th>\n",
       "      <td>0.200554</td>\n",
       "      <td>0.098079</td>\n",
       "      <td>1.000000</td>\n",
       "      <td>0.397985</td>\n",
       "      <td>0.287829</td>\n",
       "      <td>0.295494</td>\n",
       "      <td>-0.371172</td>\n",
       "      <td>0.459068</td>\n",
       "      <td>0.491609</td>\n",
       "      <td>0.384664</td>\n",
       "      <td>0.561382</td>\n",
       "    </tr>\n",
       "    <tr>\n",
       "      <th>bp</th>\n",
       "      <td>0.350859</td>\n",
       "      <td>0.261508</td>\n",
       "      <td>0.397985</td>\n",
       "      <td>1.000000</td>\n",
       "      <td>0.275224</td>\n",
       "      <td>0.205638</td>\n",
       "      <td>-0.191033</td>\n",
       "      <td>0.280799</td>\n",
       "      <td>0.396071</td>\n",
       "      <td>0.381219</td>\n",
       "      <td>0.416241</td>\n",
       "    </tr>\n",
       "    <tr>\n",
       "      <th>s1</th>\n",
       "      <td>0.262524</td>\n",
       "      <td>0.027790</td>\n",
       "      <td>0.287829</td>\n",
       "      <td>0.275224</td>\n",
       "      <td>1.000000</td>\n",
       "      <td>0.878793</td>\n",
       "      <td>0.015308</td>\n",
       "      <td>0.520674</td>\n",
       "      <td>0.512864</td>\n",
       "      <td>0.332173</td>\n",
       "      <td>0.232429</td>\n",
       "    </tr>\n",
       "    <tr>\n",
       "      <th>s2</th>\n",
       "      <td>0.221711</td>\n",
       "      <td>0.134695</td>\n",
       "      <td>0.295494</td>\n",
       "      <td>0.205638</td>\n",
       "      <td>0.878793</td>\n",
       "      <td>1.000000</td>\n",
       "      <td>-0.197435</td>\n",
       "      <td>0.652283</td>\n",
       "      <td>0.349947</td>\n",
       "      <td>0.286483</td>\n",
       "      <td>0.195834</td>\n",
       "    </tr>\n",
       "    <tr>\n",
       "      <th>s3</th>\n",
       "      <td>-0.106973</td>\n",
       "      <td>-0.394584</td>\n",
       "      <td>-0.371172</td>\n",
       "      <td>-0.191033</td>\n",
       "      <td>0.015308</td>\n",
       "      <td>-0.197435</td>\n",
       "      <td>1.000000</td>\n",
       "      <td>-0.789694</td>\n",
       "      <td>-0.450420</td>\n",
       "      <td>-0.290863</td>\n",
       "      <td>-0.410022</td>\n",
       "    </tr>\n",
       "    <tr>\n",
       "      <th>s4</th>\n",
       "      <td>0.221017</td>\n",
       "      <td>0.337524</td>\n",
       "      <td>0.459068</td>\n",
       "      <td>0.280799</td>\n",
       "      <td>0.520674</td>\n",
       "      <td>0.652283</td>\n",
       "      <td>-0.789694</td>\n",
       "      <td>1.000000</td>\n",
       "      <td>0.640390</td>\n",
       "      <td>0.413700</td>\n",
       "      <td>0.448931</td>\n",
       "    </tr>\n",
       "    <tr>\n",
       "      <th>s5</th>\n",
       "      <td>0.265176</td>\n",
       "      <td>0.174625</td>\n",
       "      <td>0.491609</td>\n",
       "      <td>0.396071</td>\n",
       "      <td>0.512864</td>\n",
       "      <td>0.349947</td>\n",
       "      <td>-0.450420</td>\n",
       "      <td>0.640390</td>\n",
       "      <td>1.000000</td>\n",
       "      <td>0.453023</td>\n",
       "      <td>0.589416</td>\n",
       "    </tr>\n",
       "    <tr>\n",
       "      <th>s6</th>\n",
       "      <td>0.296235</td>\n",
       "      <td>0.203277</td>\n",
       "      <td>0.384664</td>\n",
       "      <td>0.381219</td>\n",
       "      <td>0.332173</td>\n",
       "      <td>0.286483</td>\n",
       "      <td>-0.290863</td>\n",
       "      <td>0.413700</td>\n",
       "      <td>0.453023</td>\n",
       "      <td>1.000000</td>\n",
       "      <td>0.350792</td>\n",
       "    </tr>\n",
       "    <tr>\n",
       "      <th>Target</th>\n",
       "      <td>0.197822</td>\n",
       "      <td>0.037401</td>\n",
       "      <td>0.561382</td>\n",
       "      <td>0.416241</td>\n",
       "      <td>0.232429</td>\n",
       "      <td>0.195834</td>\n",
       "      <td>-0.410022</td>\n",
       "      <td>0.448931</td>\n",
       "      <td>0.589416</td>\n",
       "      <td>0.350792</td>\n",
       "      <td>1.000000</td>\n",
       "    </tr>\n",
       "  </tbody>\n",
       "</table>\n",
       "</div>"
      ],
      "text/plain": [
       "             age       sex       bmi        bp        s1        s2        s3  \\\n",
       "age     1.000000  0.177463  0.200554  0.350859  0.262524  0.221711 -0.106973   \n",
       "sex     0.177463  1.000000  0.098079  0.261508  0.027790  0.134695 -0.394584   \n",
       "bmi     0.200554  0.098079  1.000000  0.397985  0.287829  0.295494 -0.371172   \n",
       "bp      0.350859  0.261508  0.397985  1.000000  0.275224  0.205638 -0.191033   \n",
       "s1      0.262524  0.027790  0.287829  0.275224  1.000000  0.878793  0.015308   \n",
       "s2      0.221711  0.134695  0.295494  0.205638  0.878793  1.000000 -0.197435   \n",
       "s3     -0.106973 -0.394584 -0.371172 -0.191033  0.015308 -0.197435  1.000000   \n",
       "s4      0.221017  0.337524  0.459068  0.280799  0.520674  0.652283 -0.789694   \n",
       "s5      0.265176  0.174625  0.491609  0.396071  0.512864  0.349947 -0.450420   \n",
       "s6      0.296235  0.203277  0.384664  0.381219  0.332173  0.286483 -0.290863   \n",
       "Target  0.197822  0.037401  0.561382  0.416241  0.232429  0.195834 -0.410022   \n",
       "\n",
       "              s4        s5        s6    Target  \n",
       "age     0.221017  0.265176  0.296235  0.197822  \n",
       "sex     0.337524  0.174625  0.203277  0.037401  \n",
       "bmi     0.459068  0.491609  0.384664  0.561382  \n",
       "bp      0.280799  0.396071  0.381219  0.416241  \n",
       "s1      0.520674  0.512864  0.332173  0.232429  \n",
       "s2      0.652283  0.349947  0.286483  0.195834  \n",
       "s3     -0.789694 -0.450420 -0.290863 -0.410022  \n",
       "s4      1.000000  0.640390  0.413700  0.448931  \n",
       "s5      0.640390  1.000000  0.453023  0.589416  \n",
       "s6      0.413700  0.453023  1.000000  0.350792  \n",
       "Target  0.448931  0.589416  0.350792  1.000000  "
      ]
     },
     "execution_count": 58,
     "metadata": {},
     "output_type": "execute_result"
    }
   ],
   "source": [
    "correlation_matrix = alldat.corr(method='spearman')\n",
    "correlation_matrix"
   ]
  },
  {
   "cell_type": "code",
   "execution_count": 61,
   "metadata": {},
   "outputs": [
    {
     "data": {
      "image/png": "[encoded data removed]",
      "text/plain": [
       "<Figure size 640x480 with 2 Axes>"
      ]
     },
     "metadata": {},
     "output_type": "display_data"
    }
   ],
   "source": [
    "sns.heatmap(correlation_matrix, annot= True, cmap ='coolwarm' );"
   ]
  },
  {
   "attachments": {},
   "cell_type": "markdown",
   "metadata": {},
   "source": [
    "From the above graph it is very clear that `Target` value has good correlation with `bmi`, `bp`, `s3` , `s4`, and `s5` "
   ]
  },
  {
   "attachments": {},
   "cell_type": "markdown",
   "metadata": {},
   "source": [
    "### Spearman Correlation Coefficient on Diabetes Dataset [ Refrence ](https://scikit-learn.org/stable/datasets/toy_dataset.html#linnerrud-dataset)\n"
   ]
  },
  {
   "cell_type": "code",
   "execution_count": 65,
   "metadata": {},
   "outputs": [
    {
     "data": {
      "text/html": [
       "<div>\n",
       "<style scoped>\n",
       "    .dataframe tbody tr th:only-of-type {\n",
       "        vertical-align: middle;\n",
       "    }\n",
       "\n",
       "    .dataframe tbody tr th {\n",
       "        vertical-align: top;\n",
       "    }\n",
       "\n",
       "    .dataframe thead th {\n",
       "        text-align: right;\n",
       "    }\n",
       "</style>\n",
       "<table border=\"1\" class=\"dataframe\">\n",
       "  <thead>\n",
       "    <tr style=\"text-align: right;\">\n",
       "      <th></th>\n",
       "      <th>mean radius</th>\n",
       "      <th>mean texture</th>\n",
       "      <th>mean perimeter</th>\n",
       "      <th>mean area</th>\n",
       "      <th>mean smoothness</th>\n",
       "      <th>mean compactness</th>\n",
       "      <th>mean concavity</th>\n",
       "      <th>mean concave points</th>\n",
       "      <th>mean symmetry</th>\n",
       "      <th>mean fractal dimension</th>\n",
       "      <th>...</th>\n",
       "      <th>worst texture</th>\n",
       "      <th>worst perimeter</th>\n",
       "      <th>worst area</th>\n",
       "      <th>worst smoothness</th>\n",
       "      <th>worst compactness</th>\n",
       "      <th>worst concavity</th>\n",
       "      <th>worst concave points</th>\n",
       "      <th>worst symmetry</th>\n",
       "      <th>worst fractal dimension</th>\n",
       "      <th>Target</th>\n",
       "    </tr>\n",
       "  </thead>\n",
       "  <tbody>\n",
       "    <tr>\n",
       "      <th>0</th>\n",
       "      <td>17.99</td>\n",
       "      <td>10.38</td>\n",
       "      <td>122.80</td>\n",
       "      <td>1001.0</td>\n",
       "      <td>0.11840</td>\n",
       "      <td>0.27760</td>\n",
       "      <td>0.3001</td>\n",
       "      <td>0.14710</td>\n",
       "      <td>0.2419</td>\n",
       "      <td>0.07871</td>\n",
       "      <td>...</td>\n",
       "      <td>17.33</td>\n",
       "      <td>184.60</td>\n",
       "      <td>2019.0</td>\n",
       "      <td>0.1622</td>\n",
       "      <td>0.6656</td>\n",
       "      <td>0.7119</td>\n",
       "      <td>0.2654</td>\n",
       "      <td>0.4601</td>\n",
       "      <td>0.11890</td>\n",
       "      <td>0</td>\n",
       "    </tr>\n",
       "    <tr>\n",
       "      <th>1</th>\n",
       "      <td>20.57</td>\n",
       "      <td>17.77</td>\n",
       "      <td>132.90</td>\n",
       "      <td>1326.0</td>\n",
       "      <td>0.08474</td>\n",
       "      <td>0.07864</td>\n",
       "      <td>0.0869</td>\n",
       "      <td>0.07017</td>\n",
       "      <td>0.1812</td>\n",
       "      <td>0.05667</td>\n",
       "      <td>...</td>\n",
       "      <td>23.41</td>\n",
       "      <td>158.80</td>\n",
       "      <td>1956.0</td>\n",
       "      <td>0.1238</td>\n",
       "      <td>0.1866</td>\n",
       "      <td>0.2416</td>\n",
       "      <td>0.1860</td>\n",
       "      <td>0.2750</td>\n",
       "      <td>0.08902</td>\n",
       "      <td>0</td>\n",
       "    </tr>\n",
       "    <tr>\n",
       "      <th>2</th>\n",
       "      <td>19.69</td>\n",
       "      <td>21.25</td>\n",
       "      <td>130.00</td>\n",
       "      <td>1203.0</td>\n",
       "      <td>0.10960</td>\n",
       "      <td>0.15990</td>\n",
       "      <td>0.1974</td>\n",
       "      <td>0.12790</td>\n",
       "      <td>0.2069</td>\n",
       "      <td>0.05999</td>\n",
       "      <td>...</td>\n",
       "      <td>25.53</td>\n",
       "      <td>152.50</td>\n",
       "      <td>1709.0</td>\n",
       "      <td>0.1444</td>\n",
       "      <td>0.4245</td>\n",
       "      <td>0.4504</td>\n",
       "      <td>0.2430</td>\n",
       "      <td>0.3613</td>\n",
       "      <td>0.08758</td>\n",
       "      <td>0</td>\n",
       "    </tr>\n",
       "    <tr>\n",
       "      <th>3</th>\n",
       "      <td>11.42</td>\n",
       "      <td>20.38</td>\n",
       "      <td>77.58</td>\n",
       "      <td>386.1</td>\n",
       "      <td>0.14250</td>\n",
       "      <td>0.28390</td>\n",
       "      <td>0.2414</td>\n",
       "      <td>0.10520</td>\n",
       "      <td>0.2597</td>\n",
       "      <td>0.09744</td>\n",
       "      <td>...</td>\n",
       "      <td>26.50</td>\n",
       "      <td>98.87</td>\n",
       "      <td>567.7</td>\n",
       "      <td>0.2098</td>\n",
       "      <td>0.8663</td>\n",
       "      <td>0.6869</td>\n",
       "      <td>0.2575</td>\n",
       "      <td>0.6638</td>\n",
       "      <td>0.17300</td>\n",
       "      <td>0</td>\n",
       "    </tr>\n",
       "    <tr>\n",
       "      <th>4</th>\n",
       "      <td>20.29</td>\n",
       "      <td>14.34</td>\n",
       "      <td>135.10</td>\n",
       "      <td>1297.0</td>\n",
       "      <td>0.10030</td>\n",
       "      <td>0.13280</td>\n",
       "      <td>0.1980</td>\n",
       "      <td>0.10430</td>\n",
       "      <td>0.1809</td>\n",
       "      <td>0.05883</td>\n",
       "      <td>...</td>\n",
       "      <td>16.67</td>\n",
       "      <td>152.20</td>\n",
       "      <td>1575.0</td>\n",
       "      <td>0.1374</td>\n",
       "      <td>0.2050</td>\n",
       "      <td>0.4000</td>\n",
       "      <td>0.1625</td>\n",
       "      <td>0.2364</td>\n",
       "      <td>0.07678</td>\n",
       "      <td>0</td>\n",
       "    </tr>\n",
       "  </tbody>\n",
       "</table>\n",
       "<p>5 rows × 31 columns</p>\n",
       "</div>"
      ],
      "text/plain": [
       "   mean radius  mean texture  mean perimeter  mean area  mean smoothness  \\\n",
       "0        17.99         10.38          122.80     1001.0          0.11840   \n",
       "1        20.57         17.77          132.90     1326.0          0.08474   \n",
       "2        19.69         21.25          130.00     1203.0          0.10960   \n",
       "3        11.42         20.38           77.58      386.1          0.14250   \n",
       "4        20.29         14.34          135.10     1297.0          0.10030   \n",
       "\n",
       "   mean compactness  mean concavity  mean concave points  mean symmetry  \\\n",
       "0           0.27760          0.3001              0.14710         0.2419   \n",
       "1           0.07864          0.0869              0.07017         0.1812   \n",
       "2           0.15990          0.1974              0.12790         0.2069   \n",
       "3           0.28390          0.2414              0.10520         0.2597   \n",
       "4           0.13280          0.1980              0.10430         0.1809   \n",
       "\n",
       "   mean fractal dimension  ...  worst texture  worst perimeter  worst area  \\\n",
       "0                 0.07871  ...          17.33           184.60      2019.0   \n",
       "1                 0.05667  ...          23.41           158.80      1956.0   \n",
       "2                 0.05999  ...          25.53           152.50      1709.0   \n",
       "3                 0.09744  ...          26.50            98.87       567.7   \n",
       "4                 0.05883  ...          16.67           152.20      1575.0   \n",
       "\n",
       "   worst smoothness  worst compactness  worst concavity  worst concave points  \\\n",
       "0            0.1622             0.6656           0.7119                0.2654   \n",
       "1            0.1238             0.1866           0.2416                0.1860   \n",
       "2            0.1444             0.4245           0.4504                0.2430   \n",
       "3            0.2098             0.8663           0.6869                0.2575   \n",
       "4            0.1374             0.2050           0.4000                0.1625   \n",
       "\n",
       "   worst symmetry  worst fractal dimension  Target  \n",
       "0          0.4601                  0.11890       0  \n",
       "1          0.2750                  0.08902       0  \n",
       "2          0.3613                  0.08758       0  \n",
       "3          0.6638                  0.17300       0  \n",
       "4          0.2364                  0.07678       0  \n",
       "\n",
       "[5 rows x 31 columns]"
      ]
     },
     "execution_count": 65,
     "metadata": {},
     "output_type": "execute_result"
    }
   ],
   "source": [
    "from sklearn.datasets import load_breast_cancer\n",
    "d=load_breast_cancer()\n",
    "\n",
    "dat = pd.DataFrame(d.data,columns=d.feature_names)\n",
    "alldat=dat.join(pd.DataFrame(d.target, columns = [\"Target\"]) )\n",
    "alldat.head()"
   ]
  },
  {
   "cell_type": "code",
   "execution_count": 70,
   "metadata": {},
   "outputs": [
    {
     "data": {
      "text/plain": [
       "31"
      ]
     },
     "execution_count": 70,
     "metadata": {},
     "output_type": "execute_result"
    }
   ],
   "source": [
    "len(alldat.columns)"
   ]
  },
  {
   "attachments": {},
   "cell_type": "markdown",
   "metadata": {},
   "source": [
    "We have total 31 features and that's why we will see which are closely related to each other and with the target."
   ]
  },
  {
   "cell_type": "code",
   "execution_count": 75,
   "metadata": {},
   "outputs": [],
   "source": [
    "corr_matrix = alldat.corr(method = 'spearman')"
   ]
  },
  {
   "cell_type": "code",
   "execution_count": 82,
   "metadata": {},
   "outputs": [
    {
     "data": {
      "text/plain": [
       "(31, 31)"
      ]
     },
     "execution_count": 82,
     "metadata": {},
     "output_type": "execute_result"
    }
   ],
   "source": [
    "corr_matrix.shape"
   ]
  },
  {
   "attachments": {},
   "cell_type": "markdown",
   "metadata": {},
   "source": [
    "As we can see this matrix is very large so we will make function which can extract the all the pairs having correlation greather than some particular value."
   ]
  },
  {
   "cell_type": "code",
   "execution_count": 156,
   "metadata": {},
   "outputs": [],
   "source": [
    "def corr_matrix_extractor(data):\n",
    "    dict = {}\n",
    "    for i in range(len(data)):\n",
    "        for j in range(i,len(data)):\n",
    "            if(data.iloc[i,j]>0.90 or data.iloc[i,j]<-0.90):\n",
    "                value = data.iloc[i,j]\n",
    "                index = data.where(data == value).stack()\n",
    "                \n",
    "                dict[str(index.index[0])]= index[0]\n",
    "    return dict            \n"
   ]
  },
  {
   "cell_type": "code",
   "execution_count": 157,
   "metadata": {},
   "outputs": [
    {
     "data": {
      "text/plain": [
       "27"
      ]
     },
     "execution_count": 157,
     "metadata": {},
     "output_type": "execute_result"
    }
   ],
   "source": [
    "len(corr_matrix_extractor(corr_matrix))"
   ]
  },
  {
   "cell_type": "code",
   "execution_count": 158,
   "metadata": {},
   "outputs": [
    {
     "data": {
      "text/plain": [
       "{\"('mean radius', 'mean radius')\": 1.0,\n",
       " \"('mean radius', 'mean perimeter')\": 0.9978017394617467,\n",
       " \"('mean radius', 'mean area')\": 0.9996020278067482,\n",
       " \"('mean radius', 'worst radius')\": 0.9786044231727475,\n",
       " \"('mean radius', 'worst perimeter')\": 0.9715554621458756,\n",
       " \"('mean radius', 'worst area')\": 0.9788626109712246,\n",
       " \"('mean texture', 'worst texture')\": 0.90921828717628,\n",
       " \"('mean perimeter', 'mean area')\": 0.9970682695182412,\n",
       " \"('mean perimeter', 'worst radius')\": 0.9812439435131224,\n",
       " \"('mean perimeter', 'worst perimeter')\": 0.9789795898360197,\n",
       " \"('mean perimeter', 'worst area')\": 0.9808639170880955,\n",
       " \"('mean area', 'worst radius')\": 0.9792583545167753,\n",
       " \"('mean area', 'worst perimeter')\": 0.9718219702456465,\n",
       " \"('mean area', 'worst area')\": 0.9802638561116057,\n",
       " \"('mean compactness', 'worst compactness')\": 0.9010286712785714,\n",
       " \"('mean concavity', 'mean concave points')\": 0.9273523947193674,\n",
       " \"('mean concavity', 'worst concavity')\": 0.9385434819837921,\n",
       " \"('mean concavity', 'worst concave points')\": 0.9049380100176686,\n",
       " \"('mean concave points', 'worst concave points')\": 0.9370747174874593,\n",
       " \"('radius error', 'perimeter error')\": 0.9577284642820116,\n",
       " \"('radius error', 'area error')\": 0.9528666052029625,\n",
       " \"('perimeter error', 'area error')\": 0.9269365102536281,\n",
       " \"('worst radius', 'worst perimeter')\": 0.9935475935468647,\n",
       " \"('worst radius', 'worst area')\": 0.9988905530905691,\n",
       " \"('worst perimeter', 'worst area')\": 0.992432709857714,\n",
       " \"('worst compactness', 'worst concavity')\": 0.914894265318667,\n",
       " \"('worst concavity', 'worst concave points')\": 0.9023012329798812}"
      ]
     },
     "execution_count": 158,
     "metadata": {},
     "output_type": "execute_result"
    }
   ],
   "source": [
    "corr_matrix_extractor(corr_matrix)"
   ]
  },
  {
   "attachments": {},
   "cell_type": "markdown",
   "metadata": {},
   "source": [
    "All the above parameters have `spearman` coffiecient larger than 0.90."
   ]
  },
  {
   "attachments": {},
   "cell_type": "markdown",
   "metadata": {},
   "source": [
    "### Paired t-test"
   ]
  },
  {
   "attachments": {},
   "cell_type": "markdown",
   "metadata": {},
   "source": [
    "First we will analyse the temperature data of people during winter and summer and see if there is any statistical difference between the two datasets."
   ]
  },
  {
   "cell_type": "code",
   "execution_count": 176,
   "metadata": {},
   "outputs": [],
   "source": [
    "temp_winter = np.random.randint(low = 35, high = 45, size = 50)\n",
    "temp_summer = np.random.randint(low = 30, high = 40, size = 50)"
   ]
  },
  {
   "cell_type": "code",
   "execution_count": 179,
   "metadata": {},
   "outputs": [
    {
     "data": {
      "image/png": "[encoded data removed]",
      "text/plain": [
       "<Figure size 700x500 with 1 Axes>"
      ]
     },
     "metadata": {},
     "output_type": "display_data"
    }
   ],
   "source": [
    "difference = temp_winter- temp_summer\n",
    "\n",
    "# Inspect difference data \n",
    "# Histogram +  Mean\n",
    "fig = plt.figure(figsize=(7,5))   \n",
    "plt.hist(difference, bins=10) \n",
    "plt.axvline(x=np.mean(difference), c ='r')\n",
    "plt.text(np.mean(difference)-2, 9, round(np.mean(difference),3), c='r')\n",
    "plt.title('Histogram of Differences between winter and summer temperatures')\n",
    "plt.xlabel(\"Differences\")\n",
    "plt.ylabel(\"Frequency\")\n",
    "plt.show()"
   ]
  },
  {
   "cell_type": "code",
   "execution_count": 181,
   "metadata": {},
   "outputs": [
    {
     "name": "stdout",
     "output_type": "stream",
     "text": [
      "5.35966002501288e-11\n"
     ]
    }
   ],
   "source": [
    "# Paired two-sample t-test\n",
    "result = stats.ttest_rel(temp_winter, temp_summer)\n",
    "\n",
    "# p-value\n",
    "print(result.pvalue)"
   ]
  },
  {
   "attachments": {},
   "cell_type": "markdown",
   "metadata": {},
   "source": [
    "As we can see the `p-value ` is quite smaller than 0.05 i.e. the winter temperature and summer temperature is statistically different , which is obvious from the mean value also which is not zero."
   ]
  },
  {
   "attachments": {},
   "cell_type": "markdown",
   "metadata": {},
   "source": [
    "#### paired t-test on ML classifiers[ Refrence ](https://towardsdatascience.com/paired-t-test-to-evaluate-machine-learning-classifiers-1f395a6c93fa)\n",
    "Here, we need to determine whether there is a statistically significant difference between two classifiers such that we can actually use only the best one.\n",
    "We will perform this method for Linnerud datset described above."
   ]
  },
  {
   "cell_type": "code",
   "execution_count": 182,
   "metadata": {},
   "outputs": [
    {
     "data": {
      "text/html": [
       "<div>\n",
       "<style scoped>\n",
       "    .dataframe tbody tr th:only-of-type {\n",
       "        vertical-align: middle;\n",
       "    }\n",
       "\n",
       "    .dataframe tbody tr th {\n",
       "        vertical-align: top;\n",
       "    }\n",
       "\n",
       "    .dataframe thead th {\n",
       "        text-align: right;\n",
       "    }\n",
       "</style>\n",
       "<table border=\"1\" class=\"dataframe\">\n",
       "  <thead>\n",
       "    <tr style=\"text-align: right;\">\n",
       "      <th></th>\n",
       "      <th>Chins</th>\n",
       "      <th>Situps</th>\n",
       "      <th>Jumps</th>\n",
       "      <th>Weight</th>\n",
       "      <th>Waist</th>\n",
       "      <th>Pulse</th>\n",
       "    </tr>\n",
       "  </thead>\n",
       "  <tbody>\n",
       "    <tr>\n",
       "      <th>0</th>\n",
       "      <td>5.0</td>\n",
       "      <td>162.0</td>\n",
       "      <td>60.0</td>\n",
       "      <td>191.0</td>\n",
       "      <td>36.0</td>\n",
       "      <td>50.0</td>\n",
       "    </tr>\n",
       "    <tr>\n",
       "      <th>1</th>\n",
       "      <td>2.0</td>\n",
       "      <td>110.0</td>\n",
       "      <td>60.0</td>\n",
       "      <td>189.0</td>\n",
       "      <td>37.0</td>\n",
       "      <td>52.0</td>\n",
       "    </tr>\n",
       "    <tr>\n",
       "      <th>2</th>\n",
       "      <td>12.0</td>\n",
       "      <td>101.0</td>\n",
       "      <td>101.0</td>\n",
       "      <td>193.0</td>\n",
       "      <td>38.0</td>\n",
       "      <td>58.0</td>\n",
       "    </tr>\n",
       "    <tr>\n",
       "      <th>3</th>\n",
       "      <td>12.0</td>\n",
       "      <td>105.0</td>\n",
       "      <td>37.0</td>\n",
       "      <td>162.0</td>\n",
       "      <td>35.0</td>\n",
       "      <td>62.0</td>\n",
       "    </tr>\n",
       "    <tr>\n",
       "      <th>4</th>\n",
       "      <td>13.0</td>\n",
       "      <td>155.0</td>\n",
       "      <td>58.0</td>\n",
       "      <td>189.0</td>\n",
       "      <td>35.0</td>\n",
       "      <td>46.0</td>\n",
       "    </tr>\n",
       "  </tbody>\n",
       "</table>\n",
       "</div>"
      ],
      "text/plain": [
       "   Chins  Situps  Jumps  Weight  Waist  Pulse\n",
       "0    5.0   162.0   60.0   191.0   36.0   50.0\n",
       "1    2.0   110.0   60.0   189.0   37.0   52.0\n",
       "2   12.0   101.0  101.0   193.0   38.0   58.0\n",
       "3   12.0   105.0   37.0   162.0   35.0   62.0\n",
       "4   13.0   155.0   58.0   189.0   35.0   46.0"
      ]
     },
     "execution_count": 182,
     "metadata": {},
     "output_type": "execute_result"
    }
   ],
   "source": [
    "from sklearn.datasets import load_linnerud\n",
    "\n",
    "d=load_linnerud()\n",
    "\n",
    "dat = pd.DataFrame(d.data,columns=d.feature_names)\n",
    "alldat=dat.join(pd.DataFrame(d.target,columns=d.target_names) )\n",
    "alldat.head()"
   ]
  },
  {
   "cell_type": "code",
   "execution_count": null,
   "metadata": {},
   "outputs": [],
   "source": [
    "from sklearn.linear_model import LogisticRegression\n",
    "from sklearn.tree import DecisionTreeClassifier\n",
    "from sklearn.model_selection import train_test_split\n",
    "\n",
    "\n",
    "x, y = \n",
    "lr = LogisticRegression(max_iter=150)\n",
    "dt = DecisionTreeClassifier(max_depth = 1)\n",
    "\n",
    "x_train, x_test, y_train, y_test = train_test_split(x, y, test_size=0.3)\n",
    "lr.fit(x_train, y_train)\n",
    "dt.fit(x_train, y_train)\n",
    "\n",
    "s1 = lr.score(x_test, y_test)\n",
    "s2 = dt.score(x_test, y_test)\n",
    "\n",
    "print('Model A accuracy: %.2f%%' % (s1*100))\n",
    "print('Model B accuracy: %.2f%%' % (s2*100))"
   ]
  },
  {
   "cell_type": "markdown",
   "metadata": {},
   "source": [
    "alldat[[\"\"]]"
   ]
  }
 ],
 "metadata": {
  "kernelspec": {
   "display_name": "base",
   "language": "python",
   "name": "python3"
  },
  "language_info": {
   "codemirror_mode": {
    "name": "ipython",
    "version": 3
   },
   "file_extension": ".py",
   "mimetype": "text/x-python",
   "name": "python",
   "nbconvert_exporter": "python",
   "pygments_lexer": "ipython3",
   "version": "3.9.13"
  },
  "orig_nbformat": 4,
  "vscode": {
   "interpreter": {
    "hash": "f3a52463084db90f96d29dcfcfd9bf276dba3c521d76c4c38c835392b64a093b"
   }
  }
 },
 "nbformat": 4,
 "nbformat_minor": 2
}
